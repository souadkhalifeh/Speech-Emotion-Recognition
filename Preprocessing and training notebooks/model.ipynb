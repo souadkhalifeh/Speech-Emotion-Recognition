{
 "cells": [
  {
   "cell_type": "markdown",
   "metadata": {
    "id": "U6e-k_rPpwCH"
   },
   "source": [
    "# Import Libraries"
   ]
  },
  {
   "cell_type": "code",
   "execution_count": 1,
   "metadata": {
    "executionInfo": {
     "elapsed": 5939,
     "status": "ok",
     "timestamp": 1753794950928,
     "user": {
      "displayName": "Souad Khalifeh",
      "userId": "14100909653709351137"
     },
     "user_tz": -180
    },
    "id": "kyp_BkW6fhur"
   },
   "outputs": [],
   "source": [
    "import pandas as pd\n",
    "from sklearn.model_selection import train_test_split\n",
    "from sklearn.preprocessing import LabelEncoder\n",
    "import torchaudio.transforms as T\n",
    "from torch.utils.data import Dataset\n",
    "from torch.utils.data import DataLoader\n",
    "import torch.nn as nn"
   ]
  },
  {
   "cell_type": "code",
   "execution_count": 2,
   "metadata": {
    "colab": {
     "base_uri": "https://localhost:8080/"
    },
    "executionInfo": {
     "elapsed": 73105,
     "status": "ok",
     "timestamp": 1753795024037,
     "user": {
      "displayName": "Souad Khalifeh",
      "userId": "14100909653709351137"
     },
     "user_tz": -180
    },
    "id": "6G95Pp9iWXty",
    "outputId": "cd44cc2f-fb22-4c92-bbd3-45a33d51bb79"
   },
   "outputs": [
    {
     "name": "stdout",
     "output_type": "stream",
     "text": [
      "Mounted at /content/drive\n"
     ]
    }
   ],
   "source": [
    "from google.colab import drive\n",
    "drive.mount('/content/drive')"
   ]
  },
  {
   "cell_type": "markdown",
   "metadata": {
    "id": "lZwckXwNpz9z"
   },
   "source": [
    "# Load Dataset"
   ]
  },
  {
   "cell_type": "code",
   "execution_count": 3,
   "metadata": {
    "executionInfo": {
     "elapsed": 37,
     "status": "ok",
     "timestamp": 1753795024084,
     "user": {
      "displayName": "Souad Khalifeh",
      "userId": "14100909653709351137"
     },
     "user_tz": -180
    },
    "id": "5eXbWstRfKsp"
   },
   "outputs": [],
   "source": [
    "audios=\"/content/drive/MyDrive/Datasets/saved_files.csv\""
   ]
  },
  {
   "cell_type": "code",
   "execution_count": 9,
   "metadata": {
    "colab": {
     "base_uri": "https://localhost:8080/",
     "height": 206
    },
    "executionInfo": {
     "elapsed": 2109,
     "status": "ok",
     "timestamp": 1753779978554,
     "user": {
      "displayName": "Souad Khalifeh",
      "userId": "14100909653709351137"
     },
     "user_tz": -180
    },
    "id": "ZNqtnWuAfjU2",
    "outputId": "453f6e03-dcaa-4ac7-b519-9605ba789d00"
   },
   "outputs": [
    {
     "data": {
      "application/vnd.google.colaboratory.intrinsic+json": {
       "summary": "{\n  \"name\": \"df\",\n  \"rows\": 11322,\n  \"fields\": [\n    {\n      \"column\": \"Dataset\",\n      \"properties\": {\n        \"dtype\": \"category\",\n        \"num_unique_values\": 4,\n        \"samples\": [\n          \"SAVEE\",\n          \"TESS\",\n          \"CREMA-D\"\n        ],\n        \"semantic_type\": \"\",\n        \"description\": \"\"\n      }\n    },\n    {\n      \"column\": \"Emotion\",\n      \"properties\": {\n        \"dtype\": \"category\",\n        \"num_unique_values\": 6,\n        \"samples\": [\n          \"Disgust\",\n          \"Fearful\",\n          \"Angry\"\n        ],\n        \"semantic_type\": \"\",\n        \"description\": \"\"\n      }\n    },\n    {\n      \"column\": \"File\",\n      \"properties\": {\n        \"dtype\": \"string\",\n        \"num_unique_values\": 11322,\n        \"samples\": [\n          \"1070_MTI_ANG_XX\",\n          \"1065_IOM_NEU_XX\",\n          \"1007_DFA_DIS_XX\"\n        ],\n        \"semantic_type\": \"\",\n        \"description\": \"\"\n      }\n    }\n  ]\n}",
       "type": "dataframe",
       "variable_name": "df"
      },
      "text/html": [
       "\n",
       "  <div id=\"df-017e52b8-66a3-439b-98f1-2c3cbb6928b5\" class=\"colab-df-container\">\n",
       "    <div>\n",
       "<style scoped>\n",
       "    .dataframe tbody tr th:only-of-type {\n",
       "        vertical-align: middle;\n",
       "    }\n",
       "\n",
       "    .dataframe tbody tr th {\n",
       "        vertical-align: top;\n",
       "    }\n",
       "\n",
       "    .dataframe thead th {\n",
       "        text-align: right;\n",
       "    }\n",
       "</style>\n",
       "<table border=\"1\" class=\"dataframe\">\n",
       "  <thead>\n",
       "    <tr style=\"text-align: right;\">\n",
       "      <th></th>\n",
       "      <th>Dataset</th>\n",
       "      <th>Emotion</th>\n",
       "      <th>File</th>\n",
       "    </tr>\n",
       "  </thead>\n",
       "  <tbody>\n",
       "    <tr>\n",
       "      <th>0</th>\n",
       "      <td>CREMA-D</td>\n",
       "      <td>Disgust</td>\n",
       "      <td>1079_IWW_DIS_XX</td>\n",
       "    </tr>\n",
       "    <tr>\n",
       "      <th>1</th>\n",
       "      <td>CREMA-D</td>\n",
       "      <td>Disgust</td>\n",
       "      <td>1079_TIE_DIS_XX</td>\n",
       "    </tr>\n",
       "    <tr>\n",
       "      <th>2</th>\n",
       "      <td>CREMA-D</td>\n",
       "      <td>Fearful</td>\n",
       "      <td>1080_IOM_FEA_XX</td>\n",
       "    </tr>\n",
       "    <tr>\n",
       "      <th>3</th>\n",
       "      <td>CREMA-D</td>\n",
       "      <td>Neutral</td>\n",
       "      <td>1080_TAI_NEU_XX</td>\n",
       "    </tr>\n",
       "    <tr>\n",
       "      <th>4</th>\n",
       "      <td>CREMA-D</td>\n",
       "      <td>Sad</td>\n",
       "      <td>1079_TAI_SAD_XX</td>\n",
       "    </tr>\n",
       "  </tbody>\n",
       "</table>\n",
       "</div>\n",
       "    <div class=\"colab-df-buttons\">\n",
       "\n",
       "  <div class=\"colab-df-container\">\n",
       "    <button class=\"colab-df-convert\" onclick=\"convertToInteractive('df-017e52b8-66a3-439b-98f1-2c3cbb6928b5')\"\n",
       "            title=\"Convert this dataframe to an interactive table.\"\n",
       "            style=\"display:none;\">\n",
       "\n",
       "  <svg xmlns=\"http://www.w3.org/2000/svg\" height=\"24px\" viewBox=\"0 -960 960 960\">\n",
       "    <path d=\"M120-120v-720h720v720H120Zm60-500h600v-160H180v160Zm220 220h160v-160H400v160Zm0 220h160v-160H400v160ZM180-400h160v-160H180v160Zm440 0h160v-160H620v160ZM180-180h160v-160H180v160Zm440 0h160v-160H620v160Z\"/>\n",
       "  </svg>\n",
       "    </button>\n",
       "\n",
       "  <style>\n",
       "    .colab-df-container {\n",
       "      display:flex;\n",
       "      gap: 12px;\n",
       "    }\n",
       "\n",
       "    .colab-df-convert {\n",
       "      background-color: #E8F0FE;\n",
       "      border: none;\n",
       "      border-radius: 50%;\n",
       "      cursor: pointer;\n",
       "      display: none;\n",
       "      fill: #1967D2;\n",
       "      height: 32px;\n",
       "      padding: 0 0 0 0;\n",
       "      width: 32px;\n",
       "    }\n",
       "\n",
       "    .colab-df-convert:hover {\n",
       "      background-color: #E2EBFA;\n",
       "      box-shadow: 0px 1px 2px rgba(60, 64, 67, 0.3), 0px 1px 3px 1px rgba(60, 64, 67, 0.15);\n",
       "      fill: #174EA6;\n",
       "    }\n",
       "\n",
       "    .colab-df-buttons div {\n",
       "      margin-bottom: 4px;\n",
       "    }\n",
       "\n",
       "    [theme=dark] .colab-df-convert {\n",
       "      background-color: #3B4455;\n",
       "      fill: #D2E3FC;\n",
       "    }\n",
       "\n",
       "    [theme=dark] .colab-df-convert:hover {\n",
       "      background-color: #434B5C;\n",
       "      box-shadow: 0px 1px 3px 1px rgba(0, 0, 0, 0.15);\n",
       "      filter: drop-shadow(0px 1px 2px rgba(0, 0, 0, 0.3));\n",
       "      fill: #FFFFFF;\n",
       "    }\n",
       "  </style>\n",
       "\n",
       "    <script>\n",
       "      const buttonEl =\n",
       "        document.querySelector('#df-017e52b8-66a3-439b-98f1-2c3cbb6928b5 button.colab-df-convert');\n",
       "      buttonEl.style.display =\n",
       "        google.colab.kernel.accessAllowed ? 'block' : 'none';\n",
       "\n",
       "      async function convertToInteractive(key) {\n",
       "        const element = document.querySelector('#df-017e52b8-66a3-439b-98f1-2c3cbb6928b5');\n",
       "        const dataTable =\n",
       "          await google.colab.kernel.invokeFunction('convertToInteractive',\n",
       "                                                    [key], {});\n",
       "        if (!dataTable) return;\n",
       "\n",
       "        const docLinkHtml = 'Like what you see? Visit the ' +\n",
       "          '<a target=\"_blank\" href=https://colab.research.google.com/notebooks/data_table.ipynb>data table notebook</a>'\n",
       "          + ' to learn more about interactive tables.';\n",
       "        element.innerHTML = '';\n",
       "        dataTable['output_type'] = 'display_data';\n",
       "        await google.colab.output.renderOutput(dataTable, element);\n",
       "        const docLink = document.createElement('div');\n",
       "        docLink.innerHTML = docLinkHtml;\n",
       "        element.appendChild(docLink);\n",
       "      }\n",
       "    </script>\n",
       "  </div>\n",
       "\n",
       "\n",
       "    <div id=\"df-fcb12c8f-e94d-4947-a060-3fe612b1f6a0\">\n",
       "      <button class=\"colab-df-quickchart\" onclick=\"quickchart('df-fcb12c8f-e94d-4947-a060-3fe612b1f6a0')\"\n",
       "                title=\"Suggest charts\"\n",
       "                style=\"display:none;\">\n",
       "\n",
       "<svg xmlns=\"http://www.w3.org/2000/svg\" height=\"24px\"viewBox=\"0 0 24 24\"\n",
       "     width=\"24px\">\n",
       "    <g>\n",
       "        <path d=\"M19 3H5c-1.1 0-2 .9-2 2v14c0 1.1.9 2 2 2h14c1.1 0 2-.9 2-2V5c0-1.1-.9-2-2-2zM9 17H7v-7h2v7zm4 0h-2V7h2v10zm4 0h-2v-4h2v4z\"/>\n",
       "    </g>\n",
       "</svg>\n",
       "      </button>\n",
       "\n",
       "<style>\n",
       "  .colab-df-quickchart {\n",
       "      --bg-color: #E8F0FE;\n",
       "      --fill-color: #1967D2;\n",
       "      --hover-bg-color: #E2EBFA;\n",
       "      --hover-fill-color: #174EA6;\n",
       "      --disabled-fill-color: #AAA;\n",
       "      --disabled-bg-color: #DDD;\n",
       "  }\n",
       "\n",
       "  [theme=dark] .colab-df-quickchart {\n",
       "      --bg-color: #3B4455;\n",
       "      --fill-color: #D2E3FC;\n",
       "      --hover-bg-color: #434B5C;\n",
       "      --hover-fill-color: #FFFFFF;\n",
       "      --disabled-bg-color: #3B4455;\n",
       "      --disabled-fill-color: #666;\n",
       "  }\n",
       "\n",
       "  .colab-df-quickchart {\n",
       "    background-color: var(--bg-color);\n",
       "    border: none;\n",
       "    border-radius: 50%;\n",
       "    cursor: pointer;\n",
       "    display: none;\n",
       "    fill: var(--fill-color);\n",
       "    height: 32px;\n",
       "    padding: 0;\n",
       "    width: 32px;\n",
       "  }\n",
       "\n",
       "  .colab-df-quickchart:hover {\n",
       "    background-color: var(--hover-bg-color);\n",
       "    box-shadow: 0 1px 2px rgba(60, 64, 67, 0.3), 0 1px 3px 1px rgba(60, 64, 67, 0.15);\n",
       "    fill: var(--button-hover-fill-color);\n",
       "  }\n",
       "\n",
       "  .colab-df-quickchart-complete:disabled,\n",
       "  .colab-df-quickchart-complete:disabled:hover {\n",
       "    background-color: var(--disabled-bg-color);\n",
       "    fill: var(--disabled-fill-color);\n",
       "    box-shadow: none;\n",
       "  }\n",
       "\n",
       "  .colab-df-spinner {\n",
       "    border: 2px solid var(--fill-color);\n",
       "    border-color: transparent;\n",
       "    border-bottom-color: var(--fill-color);\n",
       "    animation:\n",
       "      spin 1s steps(1) infinite;\n",
       "  }\n",
       "\n",
       "  @keyframes spin {\n",
       "    0% {\n",
       "      border-color: transparent;\n",
       "      border-bottom-color: var(--fill-color);\n",
       "      border-left-color: var(--fill-color);\n",
       "    }\n",
       "    20% {\n",
       "      border-color: transparent;\n",
       "      border-left-color: var(--fill-color);\n",
       "      border-top-color: var(--fill-color);\n",
       "    }\n",
       "    30% {\n",
       "      border-color: transparent;\n",
       "      border-left-color: var(--fill-color);\n",
       "      border-top-color: var(--fill-color);\n",
       "      border-right-color: var(--fill-color);\n",
       "    }\n",
       "    40% {\n",
       "      border-color: transparent;\n",
       "      border-right-color: var(--fill-color);\n",
       "      border-top-color: var(--fill-color);\n",
       "    }\n",
       "    60% {\n",
       "      border-color: transparent;\n",
       "      border-right-color: var(--fill-color);\n",
       "    }\n",
       "    80% {\n",
       "      border-color: transparent;\n",
       "      border-right-color: var(--fill-color);\n",
       "      border-bottom-color: var(--fill-color);\n",
       "    }\n",
       "    90% {\n",
       "      border-color: transparent;\n",
       "      border-bottom-color: var(--fill-color);\n",
       "    }\n",
       "  }\n",
       "</style>\n",
       "\n",
       "      <script>\n",
       "        async function quickchart(key) {\n",
       "          const quickchartButtonEl =\n",
       "            document.querySelector('#' + key + ' button');\n",
       "          quickchartButtonEl.disabled = true;  // To prevent multiple clicks.\n",
       "          quickchartButtonEl.classList.add('colab-df-spinner');\n",
       "          try {\n",
       "            const charts = await google.colab.kernel.invokeFunction(\n",
       "                'suggestCharts', [key], {});\n",
       "          } catch (error) {\n",
       "            console.error('Error during call to suggestCharts:', error);\n",
       "          }\n",
       "          quickchartButtonEl.classList.remove('colab-df-spinner');\n",
       "          quickchartButtonEl.classList.add('colab-df-quickchart-complete');\n",
       "        }\n",
       "        (() => {\n",
       "          let quickchartButtonEl =\n",
       "            document.querySelector('#df-fcb12c8f-e94d-4947-a060-3fe612b1f6a0 button');\n",
       "          quickchartButtonEl.style.display =\n",
       "            google.colab.kernel.accessAllowed ? 'block' : 'none';\n",
       "        })();\n",
       "      </script>\n",
       "    </div>\n",
       "\n",
       "    </div>\n",
       "  </div>\n"
      ],
      "text/plain": [
       "   Dataset  Emotion             File\n",
       "0  CREMA-D  Disgust  1079_IWW_DIS_XX\n",
       "1  CREMA-D  Disgust  1079_TIE_DIS_XX\n",
       "2  CREMA-D  Fearful  1080_IOM_FEA_XX\n",
       "3  CREMA-D  Neutral  1080_TAI_NEU_XX\n",
       "4  CREMA-D      Sad  1079_TAI_SAD_XX"
      ]
     },
     "execution_count": 9,
     "metadata": {},
     "output_type": "execute_result"
    }
   ],
   "source": [
    "df=pd.read_csv(audios)\n",
    "df.head()"
   ]
  },
  {
   "cell_type": "code",
   "execution_count": 10,
   "metadata": {
    "executionInfo": {
     "elapsed": 838,
     "status": "ok",
     "timestamp": 1753779984738,
     "user": {
      "displayName": "Souad Khalifeh",
      "userId": "14100909653709351137"
     },
     "user_tz": -180
    },
    "id": "a4bIHd_cfmPl"
   },
   "outputs": [],
   "source": [
    "base_audio_path = \"/content/drive/MyDrive/Datasets/Processed_Audio\"\n",
    "df[\"Path\"] = df.apply(lambda row: f\"{base_audio_path}/{row['Dataset']}/{row['Emotion']}/{row['File']}.pt\", axis=1)\n"
   ]
  },
  {
   "cell_type": "markdown",
   "metadata": {
    "id": "-rdoCtWWp2Ec"
   },
   "source": [
    "# Encoding"
   ]
  },
  {
   "cell_type": "code",
   "execution_count": 11,
   "metadata": {
    "colab": {
     "base_uri": "https://localhost:8080/"
    },
    "executionInfo": {
     "elapsed": 11,
     "status": "ok",
     "timestamp": 1753779985770,
     "user": {
      "displayName": "Souad Khalifeh",
      "userId": "14100909653709351137"
     },
     "user_tz": -180
    },
    "id": "JEdlws0yph62",
    "outputId": "dafb58a1-5822-47d2-f4a2-a5646b0e60f5"
   },
   "outputs": [
    {
     "name": "stdout",
     "output_type": "stream",
     "text": [
      "{'Angry': np.int64(0), 'Disgust': np.int64(1), 'Fearful': np.int64(2), 'Happy': np.int64(3), 'Neutral': np.int64(4), 'Sad': np.int64(5)}\n"
     ]
    }
   ],
   "source": [
    "le = LabelEncoder()\n",
    "df[\"Label\"] = le.fit_transform(df[\"Emotion\"])\n",
    "label_map = dict(zip(le.classes_, le.transform(le.classes_)))\n",
    "print(label_map)\n"
   ]
  },
  {
   "cell_type": "markdown",
   "metadata": {
    "id": "-6W57scPp4SZ"
   },
   "source": [
    "# Split Dataset"
   ]
  },
  {
   "cell_type": "code",
   "execution_count": null,
   "metadata": {
    "id": "bScUxHolp6PG"
   },
   "outputs": [],
   "source": [
    "train_df, test_df = train_test_split(df, test_size=0.2, stratify=df[\"Label\"], random_state=42)\n"
   ]
  },
  {
   "cell_type": "markdown",
   "metadata": {
    "id": "5PfGJZPmscJ6"
   },
   "source": [
    "# CNN-LSTM Model Architecture"
   ]
  },
  {
   "cell_type": "markdown",
   "metadata": {
    "id": "esM4ciT5siTk"
   },
   "source": [
    "## Extract Spectograms from Waveform"
   ]
  },
  {
   "cell_type": "code",
   "execution_count": null,
   "metadata": {
    "id": "Q2HXP8KUr7kV"
   },
   "outputs": [],
   "source": [
    "class AudioEmotionDataset(Dataset):\n",
    "    def __init__(self, df):\n",
    "        self.df = df\n",
    "        self.mel_spectrogram = T.MelSpectrogram(\n",
    "            sample_rate=22050,\n",
    "            n_fft=1024,\n",
    "            hop_length=512,\n",
    "            n_mels=64\n",
    "        )\n",
    "        self.amplitude_to_db = T.AmplitudeToDB()\n",
    "\n",
    "    def __len__(self):\n",
    "        return len(self.df)\n",
    "\n",
    "    def __getitem__(self, idx):\n",
    "        row = self.df.iloc[idx]\n",
    "        waveform = torch.load(row[\"Path\"])  # shape: (1, samples)\n",
    "        mel_spec = self.mel_spectrogram(waveform)\n",
    "        mel_spec_db = self.amplitude_to_db(mel_spec)\n",
    "        mel_spec_db = mel_spec_db.squeeze(0).transpose(0, 1)  # shape: (Time, Mel)\n",
    "        label = row[\"Label\"]\n",
    "        return mel_spec_db, label\n"
   ]
  },
  {
   "cell_type": "markdown",
   "metadata": {
    "id": "Z0tpoZJCsosQ"
   },
   "source": [
    "## Create Dataloaders"
   ]
  },
  {
   "cell_type": "code",
   "execution_count": null,
   "metadata": {
    "id": "bdIzFcu4r-ss"
   },
   "outputs": [],
   "source": [
    "train_dataset = AudioEmotionDataset(train_df)\n",
    "test_dataset = AudioEmotionDataset(test_df)\n",
    "\n",
    "train_loader = DataLoader(train_dataset, batch_size=32, shuffle=True)\n",
    "test_loader = DataLoader(test_dataset, batch_size=32, shuffle=False)\n"
   ]
  },
  {
   "cell_type": "markdown",
   "metadata": {
    "id": "fDyc885wssVi"
   },
   "source": [
    "## Create CNN-LSTM Architecture"
   ]
  },
  {
   "cell_type": "code",
   "execution_count": null,
   "metadata": {
    "id": "7rn6r6vFsQdR"
   },
   "outputs": [],
   "source": [
    "class CNN_LSTM(nn.Module):\n",
    "    def __init__(self, num_classes):\n",
    "        super(CNN_LSTM, self).__init__()\n",
    "\n",
    "        self.cnn = nn.Sequential(\n",
    "            nn.Conv1d(64, 128, kernel_size=5, stride=1, padding=2),\n",
    "            nn.ReLU(),\n",
    "            nn.BatchNorm1d(128),\n",
    "            nn.MaxPool1d(2),\n",
    "\n",
    "            nn.Conv1d(128, 256, kernel_size=3, stride=1, padding=1),\n",
    "            nn.ReLU(),\n",
    "            nn.BatchNorm1d(256),\n",
    "            nn.MaxPool1d(2)\n",
    "        )\n",
    "\n",
    "        self.lstm = nn.LSTM(input_size=256, hidden_size=128, num_layers=2, batch_first=True, bidirectional=True)\n",
    "\n",
    "        self.fc = nn.Sequential(\n",
    "            nn.Linear(128 * 2, 64),\n",
    "            nn.ReLU(),\n",
    "            nn.Dropout(0.3),\n",
    "            nn.Linear(64, num_classes)\n",
    "        )\n",
    "\n",
    "    def forward(self, x):  # x: (batch, time, mel)\n",
    "        x = x.transpose(1, 2)  # → (batch, mel, time)\n",
    "        x = self.cnn(x)        # → (batch, channels, time)\n",
    "        x = x.transpose(1, 2)  # → (batch, time, channels)\n",
    "        lstm_out, _ = self.lstm(x)  # → (batch, time, hidden*2)\n",
    "        x = lstm_out[:, -1, :]      # → last time step\n",
    "        x = self.fc(x)\n",
    "        return x\n"
   ]
  },
  {
   "cell_type": "code",
   "execution_count": null,
   "metadata": {
    "id": "AVjghh23sVww"
   },
   "outputs": [],
   "source": [
    "import torch\n",
    "device = torch.device(\"cuda\" if torch.cuda.is_available() else \"cpu\")\n",
    "num_classes = df[\"Label\"].nunique()\n",
    "model = CNN_LSTM(num_classes).to(device)\n",
    "\n",
    "criterion = nn.CrossEntropyLoss()\n",
    "optimizer = torch.optim.Adam(model.parameters(), lr=1e-3)\n"
   ]
  },
  {
   "cell_type": "markdown",
   "metadata": {
    "id": "ZCUkGCfds7-P"
   },
   "source": [
    "## Training"
   ]
  },
  {
   "cell_type": "code",
   "execution_count": null,
   "metadata": {
    "id": "6_CWBRdTsymk"
   },
   "outputs": [],
   "source": [
    "def train(model, loader, optimizer, criterion):\n",
    "    model.train()\n",
    "    total_loss, total_correct = 0, 0\n",
    "\n",
    "    for x, y in loader:\n",
    "        x, y = x.to(device), y.to(device)\n",
    "        optimizer.zero_grad()\n",
    "        outputs = model(x)\n",
    "        loss = criterion(outputs, y)\n",
    "        loss.backward()\n",
    "        optimizer.step()\n",
    "\n",
    "        total_loss += loss.item() * x.size(0)\n",
    "        total_correct += (outputs.argmax(1) == y).sum().item()\n",
    "\n",
    "    return total_loss / len(loader.dataset), total_correct / len(loader.dataset)"
   ]
  },
  {
   "cell_type": "markdown",
   "metadata": {
    "id": "dADyJJ6Zs95l"
   },
   "source": [
    "## Evaluation"
   ]
  },
  {
   "cell_type": "code",
   "execution_count": null,
   "metadata": {
    "id": "_M3P_KjHs1v1"
   },
   "outputs": [],
   "source": [
    "def evaluate(model, loader, criterion):\n",
    "    model.eval()\n",
    "    total_loss, total_correct = 0, 0\n",
    "\n",
    "    with torch.no_grad():\n",
    "        for x, y in loader:\n",
    "            x, y = x.to(device), y.to(device)\n",
    "            outputs = model(x)\n",
    "            loss = criterion(outputs, y)\n",
    "\n",
    "            total_loss += loss.item() * x.size(0)\n",
    "            total_correct += (outputs.argmax(1) == y).sum().item()\n",
    "\n",
    "    return total_loss / len(loader.dataset), total_correct / len(loader.dataset)\n"
   ]
  },
  {
   "cell_type": "code",
   "execution_count": null,
   "metadata": {
    "colab": {
     "base_uri": "https://localhost:8080/"
    },
    "executionInfo": {
     "elapsed": 1716862,
     "status": "ok",
     "timestamp": 1753459909740,
     "user": {
      "displayName": "Souad Khalifeh",
      "userId": "14100909653709351137"
     },
     "user_tz": -180
    },
    "id": "It3_iSLZs3sH",
    "outputId": "da0a5ae5-dbb2-459d-b33c-20146b4fa027"
   },
   "outputs": [
    {
     "name": "stdout",
     "output_type": "stream",
     "text": [
      "Epoch 1: Train Loss=1.7896, Train Acc=0.1817 | Val Loss=1.7814, Val Acc=0.1956\n",
      "Epoch 2: Train Loss=1.6262, Train Acc=0.2923 | Val Loss=1.5559, Val Acc=0.3188\n",
      "Epoch 3: Train Loss=1.4698, Train Acc=0.3818 | Val Loss=1.4127, Val Acc=0.4049\n",
      "Epoch 4: Train Loss=1.3873, Train Acc=0.4274 | Val Loss=1.2793, Val Acc=0.4852\n",
      "Epoch 5: Train Loss=1.3105, Train Acc=0.4632 | Val Loss=1.1805, Val Acc=0.5055\n",
      "Epoch 6: Train Loss=1.2605, Train Acc=0.4885 | Val Loss=1.2246, Val Acc=0.5011\n",
      "Epoch 7: Train Loss=1.2922, Train Acc=0.4804 | Val Loss=1.1736, Val Acc=0.5214\n",
      "Epoch 8: Train Loss=1.2161, Train Acc=0.5178 | Val Loss=1.1679, Val Acc=0.5280\n",
      "Epoch 9: Train Loss=1.1853, Train Acc=0.5269 | Val Loss=1.1292, Val Acc=0.5506\n",
      "Epoch 10: Train Loss=1.1577, Train Acc=0.5398 | Val Loss=1.1402, Val Acc=0.5532\n",
      "Epoch 11: Train Loss=1.1428, Train Acc=0.5500 | Val Loss=1.0678, Val Acc=0.5695\n",
      "Epoch 12: Train Loss=1.1213, Train Acc=0.5539 | Val Loss=1.0654, Val Acc=0.5682\n",
      "Epoch 13: Train Loss=1.1053, Train Acc=0.5606 | Val Loss=1.0430, Val Acc=0.5740\n",
      "Epoch 14: Train Loss=1.1013, Train Acc=0.5683 | Val Loss=1.0463, Val Acc=0.5815\n",
      "Epoch 15: Train Loss=1.0587, Train Acc=0.5833 | Val Loss=1.0245, Val Acc=0.5881\n",
      "Epoch 16: Train Loss=1.0560, Train Acc=0.5904 | Val Loss=1.0220, Val Acc=0.5987\n",
      "Epoch 17: Train Loss=1.0317, Train Acc=0.5992 | Val Loss=1.0062, Val Acc=0.6018\n",
      "Epoch 18: Train Loss=1.0199, Train Acc=0.5996 | Val Loss=1.0110, Val Acc=0.6000\n",
      "Epoch 19: Train Loss=0.9993, Train Acc=0.6142 | Val Loss=1.0614, Val Acc=0.5898\n",
      "Epoch 20: Train Loss=1.0041, Train Acc=0.6107 | Val Loss=1.0051, Val Acc=0.6066\n"
     ]
    }
   ],
   "source": [
    "epochs = 20\n",
    "for epoch in range(epochs):\n",
    "    train_loss, train_acc = train(model, train_loader, optimizer, criterion)\n",
    "    val_loss, val_acc = evaluate(model, test_loader, criterion)\n",
    "    print(f\"Epoch {epoch+1}: Train Loss={train_loss:.4f}, Train Acc={train_acc:.4f} | Val Loss={val_loss:.4f}, Val Acc={val_acc:.4f}\")\n"
   ]
  },
  {
   "cell_type": "code",
   "execution_count": null,
   "metadata": {
    "colab": {
     "base_uri": "https://localhost:8080/"
    },
    "executionInfo": {
     "elapsed": 4261556,
     "status": "ok",
     "timestamp": 1753464171331,
     "user": {
      "displayName": "Souad Khalifeh",
      "userId": "14100909653709351137"
     },
     "user_tz": -180
    },
    "id": "ikXB63yYf968",
    "outputId": "af0cfedd-e1df-4b17-a4e3-503c45bf1a3f"
   },
   "outputs": [
    {
     "name": "stdout",
     "output_type": "stream",
     "text": [
      "Epoch 1: Train Loss=0.9681, Train Acc=0.6254 | Val Loss=1.0332, Val Acc=0.5859\n",
      "Epoch 2: Train Loss=0.9435, Train Acc=0.6382 | Val Loss=0.9407, Val Acc=0.6371\n",
      "Epoch 3: Train Loss=0.9289, Train Acc=0.6409 | Val Loss=0.9738, Val Acc=0.6208\n",
      "Epoch 4: Train Loss=0.9129, Train Acc=0.6494 | Val Loss=0.9405, Val Acc=0.6322\n",
      "Epoch 5: Train Loss=0.8908, Train Acc=0.6614 | Val Loss=0.9227, Val Acc=0.6415\n",
      "Epoch 6: Train Loss=0.9174, Train Acc=0.6478 | Val Loss=0.9219, Val Acc=0.6437\n",
      "Epoch 7: Train Loss=0.8421, Train Acc=0.6808 | Val Loss=0.9554, Val Acc=0.6472\n",
      "Epoch 8: Train Loss=0.8689, Train Acc=0.6658 | Val Loss=0.9392, Val Acc=0.6402\n",
      "Epoch 9: Train Loss=0.8202, Train Acc=0.6870 | Val Loss=0.9696, Val Acc=0.6464\n",
      "Epoch 10: Train Loss=0.7881, Train Acc=0.6965 | Val Loss=0.9369, Val Acc=0.6587\n",
      "Epoch 11: Train Loss=0.8040, Train Acc=0.6944 | Val Loss=0.9670, Val Acc=0.6428\n",
      "Epoch 12: Train Loss=0.7607, Train Acc=0.7130 | Val Loss=0.9756, Val Acc=0.6247\n",
      "Epoch 13: Train Loss=0.7441, Train Acc=0.7210 | Val Loss=0.8989, Val Acc=0.6556\n",
      "Epoch 14: Train Loss=0.7812, Train Acc=0.7070 | Val Loss=0.9264, Val Acc=0.6570\n",
      "Epoch 15: Train Loss=0.7175, Train Acc=0.7281 | Val Loss=0.8742, Val Acc=0.6742\n",
      "Epoch 16: Train Loss=0.6940, Train Acc=0.7350 | Val Loss=0.9093, Val Acc=0.6667\n",
      "Epoch 17: Train Loss=0.6573, Train Acc=0.7527 | Val Loss=0.9255, Val Acc=0.6737\n",
      "Epoch 18: Train Loss=0.6780, Train Acc=0.7451 | Val Loss=0.9355, Val Acc=0.6662\n",
      "Epoch 19: Train Loss=0.6393, Train Acc=0.7607 | Val Loss=0.8885, Val Acc=0.6808\n",
      "Epoch 20: Train Loss=0.6009, Train Acc=0.7763 | Val Loss=0.9430, Val Acc=0.6777\n",
      "Epoch 21: Train Loss=0.5897, Train Acc=0.7790 | Val Loss=0.9767, Val Acc=0.6623\n",
      "Epoch 22: Train Loss=0.5852, Train Acc=0.7859 | Val Loss=0.9919, Val Acc=0.6517\n",
      "Epoch 23: Train Loss=0.6020, Train Acc=0.7766 | Val Loss=0.9589, Val Acc=0.6627\n",
      "Epoch 24: Train Loss=0.5291, Train Acc=0.8060 | Val Loss=1.0195, Val Acc=0.6574\n",
      "Early stopping triggered.\n"
     ]
    }
   ],
   "source": [
    "best_val_acc = 0\n",
    "patience, patience_counter = 5, 0\n",
    "\n",
    "for epoch in range(1, 51):\n",
    "    train_loss, train_acc = train(model, train_loader, optimizer, criterion)\n",
    "    val_loss, val_acc = evaluate(model, test_loader, criterion)\n",
    "\n",
    "    if val_acc > best_val_acc:\n",
    "        best_val_acc = val_acc\n",
    "        patience_counter = 0\n",
    "        torch.save(model.state_dict(), \"best_model.pt\")\n",
    "    else:\n",
    "        patience_counter += 1\n",
    "\n",
    "    print(f\"Epoch {epoch}: Train Loss={train_loss:.4f}, Train Acc={train_acc:.4f} | Val Loss={val_loss:.4f}, Val Acc={val_acc:.4f}\")\n",
    "\n",
    "    if patience_counter >= patience:\n",
    "        print(\"Early stopping triggered.\")\n",
    "        break\n"
   ]
  },
  {
   "cell_type": "code",
   "execution_count": null,
   "metadata": {
    "colab": {
     "base_uri": "https://localhost:8080/"
    },
    "executionInfo": {
     "elapsed": 295,
     "status": "ok",
     "timestamp": 1753464172509,
     "user": {
      "displayName": "Souad Khalifeh",
      "userId": "14100909653709351137"
     },
     "user_tz": -180
    },
    "id": "KMwmO9W1efXW",
    "outputId": "636e191a-f221-4ef1-8e8f-56d3b3000c82"
   },
   "outputs": [
    {
     "data": {
      "text/plain": [
       "['/content/drive/MyDrive/Datasets/label_encoder.pkl']"
      ]
     },
     "execution_count": 17,
     "metadata": {},
     "output_type": "execute_result"
    }
   ],
   "source": [
    "import joblib\n",
    "joblib.dump(le, \"/content/drive/MyDrive/Datasets/label_encoder.pkl\")\n"
   ]
  },
  {
   "cell_type": "code",
   "execution_count": null,
   "metadata": {
    "id": "8mLbQNqvdv_a"
   },
   "outputs": [],
   "source": [
    "import joblib"
   ]
  },
  {
   "cell_type": "code",
   "execution_count": null,
   "metadata": {
    "id": "1tCC1n7Udtxk"
   },
   "outputs": [],
   "source": [
    "le = joblib.load(\"/content/drive/MyDrive/Datasets/label_encoder.pkl\")\n"
   ]
  },
  {
   "cell_type": "code",
   "execution_count": null,
   "metadata": {
    "id": "OXdl6bCYvpdk"
   },
   "outputs": [],
   "source": [
    "from sklearn.metrics import f1_score, accuracy_score, confusion_matrix, classification_report\n",
    "import numpy as np\n",
    "\n",
    "all_preds = []\n",
    "all_labels = []\n",
    "\n",
    "with torch.no_grad():\n",
    "    for x, y in test_loader:\n",
    "        x, y = x.to(device), y.to(device)\n",
    "        outputs = model(x)\n",
    "        preds = torch.argmax(outputs, dim=1)\n",
    "        all_preds.extend(preds.cpu().numpy())\n",
    "        all_labels.extend(y.cpu().numpy())\n",
    "\n",
    "y_true = np.array(all_labels)\n",
    "y_pred = np.array(all_preds)\n"
   ]
  },
  {
   "cell_type": "code",
   "execution_count": null,
   "metadata": {
    "colab": {
     "base_uri": "https://localhost:8080/"
    },
    "executionInfo": {
     "elapsed": 10,
     "status": "ok",
     "timestamp": 1753466473639,
     "user": {
      "displayName": "Souad Khalifeh",
      "userId": "14100909653709351137"
     },
     "user_tz": -180
    },
    "id": "ANvv0iKzvvUT",
    "outputId": "588ef1f4-4680-4c53-f97f-1fcd72c5c7cf"
   },
   "outputs": [
    {
     "name": "stdout",
     "output_type": "stream",
     "text": [
      "Test Accuracy: 0.6808\n",
      "Weighted F1-score: 0.6778\n",
      "Confusion Matrix:\n",
      "[[311  12   9  48   3   2]\n",
      " [ 40 207  22  42  32  42]\n",
      " [  9  12 211  61  23  69]\n",
      " [ 29  11  40 276  25   4]\n",
      " [  1  15  10  26 276  12]\n",
      " [  5  23  33  12  51 261]]\n",
      "Classification Report:\n",
      "              precision    recall  f1-score   support\n",
      "\n",
      "       Angry       0.79      0.81      0.80       385\n",
      "     Disgust       0.74      0.54      0.62       385\n",
      "     Fearful       0.65      0.55      0.59       385\n",
      "       Happy       0.59      0.72      0.65       385\n",
      "     Neutral       0.67      0.81      0.74       340\n",
      "         Sad       0.67      0.68      0.67       385\n",
      "\n",
      "    accuracy                           0.68      2265\n",
      "   macro avg       0.69      0.68      0.68      2265\n",
      "weighted avg       0.69      0.68      0.68      2265\n",
      "\n"
     ]
    }
   ],
   "source": [
    "acc = accuracy_score(y_true, y_pred)\n",
    "print(f\"Test Accuracy: {acc:.4f}\")\n",
    "\n",
    "f1 = f1_score(y_true, y_pred, average='weighted')\n",
    "print(f\"Weighted F1-score: {f1:.4f}\")\n",
    "\n",
    "cm = confusion_matrix(y_true, y_pred)\n",
    "print(\"Confusion Matrix:\")\n",
    "print(cm)\n",
    "\n",
    "print(\"Classification Report:\")\n",
    "print(classification_report(y_true, y_pred, target_names=le.classes_))\n"
   ]
  },
  {
   "cell_type": "code",
   "execution_count": null,
   "metadata": {
    "colab": {
     "base_uri": "https://localhost:8080/",
     "height": 564
    },
    "executionInfo": {
     "elapsed": 3063,
     "status": "ok",
     "timestamp": 1753467845089,
     "user": {
      "displayName": "Souad Khalifeh",
      "userId": "14100909653709351137"
     },
     "user_tz": -180
    },
    "id": "UYSZz1Yk0-W4",
    "outputId": "01670fc7-9db8-4477-aed0-6d2b86147987"
   },
   "outputs": [
    {
     "data": {
      "image/png": "[encoded data removed]",
      "text/plain": [
       "<Figure size 800x600 with 2 Axes>"
      ]
     },
     "metadata": {},
     "output_type": "display_data"
    }
   ],
   "source": [
    "import seaborn as sns\n",
    "import matplotlib.pyplot as plt\n",
    "\n",
    "plt.figure(figsize=(8, 6))\n",
    "sns.heatmap(cm, annot=True, fmt=\"d\", cmap=\"Blues\", xticklabels=le.classes_, yticklabels=le.classes_)\n",
    "plt.xlabel(\"Predicted Label\")\n",
    "plt.ylabel(\"True Label\")\n",
    "plt.title(\"CNN-LSTM Confusion Matrix\")\n",
    "plt.show()\n"
   ]
  },
  {
   "cell_type": "code",
   "execution_count": null,
   "metadata": {
    "colab": {
     "base_uri": "https://localhost:8080/",
     "height": 331
    },
    "executionInfo": {
     "elapsed": 61,
     "status": "ok",
     "timestamp": 1753468077974,
     "user": {
      "displayName": "Souad Khalifeh",
      "userId": "14100909653709351137"
     },
     "user_tz": -180
    },
    "id": "GknsE0ko0-ye",
    "outputId": "289eb3b8-4f27-48b9-f831-a11f8e05f50d"
   },
   "outputs": [
    {
     "data": {
      "application/vnd.google.colaboratory.intrinsic+json": {
       "summary": "{\n  \"name\": \"report_df\",\n  \"rows\": 9,\n  \"fields\": [\n    {\n      \"column\": \"precision\",\n      \"properties\": {\n        \"dtype\": \"number\",\n        \"std\": 0.05398327930428501,\n        \"min\": 0.594,\n        \"max\": 0.787,\n        \"num_unique_values\": 9,\n        \"samples\": [\n          0.685,\n          0.739,\n          0.669\n        ],\n        \"semantic_type\": \"\",\n        \"description\": \"\"\n      }\n    },\n    {\n      \"column\": \"recall\",\n      \"properties\": {\n        \"dtype\": \"number\",\n        \"std\": 0.0953315850655548,\n        \"min\": 0.538,\n        \"max\": 0.812,\n        \"num_unique_values\": 8,\n        \"samples\": [\n          0.538,\n          0.678,\n          0.808\n        ],\n        \"semantic_type\": \"\",\n        \"description\": \"\"\n      }\n    },\n    {\n      \"column\": \"f1-score\",\n      \"properties\": {\n        \"dtype\": \"number\",\n        \"std\": 0.059648973168026975,\n        \"min\": 0.594,\n        \"max\": 0.797,\n        \"num_unique_values\": 9,\n        \"samples\": [\n          0.679,\n          0.623,\n          0.674\n        ],\n        \"semantic_type\": \"\",\n        \"description\": \"\"\n      }\n    },\n    {\n      \"column\": \"support\",\n      \"properties\": {\n        \"dtype\": \"number\",\n        \"std\": 865.008822370616,\n        \"min\": 0.681,\n        \"max\": 2265.0,\n        \"num_unique_values\": 4,\n        \"samples\": [\n          340.0,\n          2265.0,\n          385.0\n        ],\n        \"semantic_type\": \"\",\n        \"description\": \"\"\n      }\n    }\n  ]\n}",
       "type": "dataframe",
       "variable_name": "report_df"
      },
      "text/html": [
       "\n",
       "  <div id=\"df-81d4996a-d3f3-4af6-8edf-0f4cc3c36660\" class=\"colab-df-container\">\n",
       "    <div>\n",
       "<style scoped>\n",
       "    .dataframe tbody tr th:only-of-type {\n",
       "        vertical-align: middle;\n",
       "    }\n",
       "\n",
       "    .dataframe tbody tr th {\n",
       "        vertical-align: top;\n",
       "    }\n",
       "\n",
       "    .dataframe thead th {\n",
       "        text-align: right;\n",
       "    }\n",
       "</style>\n",
       "<table border=\"1\" class=\"dataframe\">\n",
       "  <thead>\n",
       "    <tr style=\"text-align: right;\">\n",
       "      <th></th>\n",
       "      <th>precision</th>\n",
       "      <th>recall</th>\n",
       "      <th>f1-score</th>\n",
       "      <th>support</th>\n",
       "    </tr>\n",
       "  </thead>\n",
       "  <tbody>\n",
       "    <tr>\n",
       "      <th>Angry</th>\n",
       "      <td>0.787</td>\n",
       "      <td>0.808</td>\n",
       "      <td>0.797</td>\n",
       "      <td>385.000</td>\n",
       "    </tr>\n",
       "    <tr>\n",
       "      <th>Disgust</th>\n",
       "      <td>0.739</td>\n",
       "      <td>0.538</td>\n",
       "      <td>0.623</td>\n",
       "      <td>385.000</td>\n",
       "    </tr>\n",
       "    <tr>\n",
       "      <th>Fearful</th>\n",
       "      <td>0.649</td>\n",
       "      <td>0.548</td>\n",
       "      <td>0.594</td>\n",
       "      <td>385.000</td>\n",
       "    </tr>\n",
       "    <tr>\n",
       "      <th>Happy</th>\n",
       "      <td>0.594</td>\n",
       "      <td>0.717</td>\n",
       "      <td>0.649</td>\n",
       "      <td>385.000</td>\n",
       "    </tr>\n",
       "    <tr>\n",
       "      <th>Neutral</th>\n",
       "      <td>0.673</td>\n",
       "      <td>0.812</td>\n",
       "      <td>0.736</td>\n",
       "      <td>340.000</td>\n",
       "    </tr>\n",
       "    <tr>\n",
       "      <th>Sad</th>\n",
       "      <td>0.669</td>\n",
       "      <td>0.678</td>\n",
       "      <td>0.674</td>\n",
       "      <td>385.000</td>\n",
       "    </tr>\n",
       "    <tr>\n",
       "      <th>accuracy</th>\n",
       "      <td>0.681</td>\n",
       "      <td>0.681</td>\n",
       "      <td>0.681</td>\n",
       "      <td>0.681</td>\n",
       "    </tr>\n",
       "    <tr>\n",
       "      <th>macro avg</th>\n",
       "      <td>0.685</td>\n",
       "      <td>0.683</td>\n",
       "      <td>0.679</td>\n",
       "      <td>2265.000</td>\n",
       "    </tr>\n",
       "    <tr>\n",
       "      <th>weighted avg</th>\n",
       "      <td>0.686</td>\n",
       "      <td>0.681</td>\n",
       "      <td>0.678</td>\n",
       "      <td>2265.000</td>\n",
       "    </tr>\n",
       "  </tbody>\n",
       "</table>\n",
       "</div>\n",
       "    <div class=\"colab-df-buttons\">\n",
       "\n",
       "  <div class=\"colab-df-container\">\n",
       "    <button class=\"colab-df-convert\" onclick=\"convertToInteractive('df-81d4996a-d3f3-4af6-8edf-0f4cc3c36660')\"\n",
       "            title=\"Convert this dataframe to an interactive table.\"\n",
       "            style=\"display:none;\">\n",
       "\n",
       "  <svg xmlns=\"http://www.w3.org/2000/svg\" height=\"24px\" viewBox=\"0 -960 960 960\">\n",
       "    <path d=\"M120-120v-720h720v720H120Zm60-500h600v-160H180v160Zm220 220h160v-160H400v160Zm0 220h160v-160H400v160ZM180-400h160v-160H180v160Zm440 0h160v-160H620v160ZM180-180h160v-160H180v160Zm440 0h160v-160H620v160Z\"/>\n",
       "  </svg>\n",
       "    </button>\n",
       "\n",
       "  <style>\n",
       "    .colab-df-container {\n",
       "      display:flex;\n",
       "      gap: 12px;\n",
       "    }\n",
       "\n",
       "    .colab-df-convert {\n",
       "      background-color: #E8F0FE;\n",
       "      border: none;\n",
       "      border-radius: 50%;\n",
       "      cursor: pointer;\n",
       "      display: none;\n",
       "      fill: #1967D2;\n",
       "      height: 32px;\n",
       "      padding: 0 0 0 0;\n",
       "      width: 32px;\n",
       "    }\n",
       "\n",
       "    .colab-df-convert:hover {\n",
       "      background-color: #E2EBFA;\n",
       "      box-shadow: 0px 1px 2px rgba(60, 64, 67, 0.3), 0px 1px 3px 1px rgba(60, 64, 67, 0.15);\n",
       "      fill: #174EA6;\n",
       "    }\n",
       "\n",
       "    .colab-df-buttons div {\n",
       "      margin-bottom: 4px;\n",
       "    }\n",
       "\n",
       "    [theme=dark] .colab-df-convert {\n",
       "      background-color: #3B4455;\n",
       "      fill: #D2E3FC;\n",
       "    }\n",
       "\n",
       "    [theme=dark] .colab-df-convert:hover {\n",
       "      background-color: #434B5C;\n",
       "      box-shadow: 0px 1px 3px 1px rgba(0, 0, 0, 0.15);\n",
       "      filter: drop-shadow(0px 1px 2px rgba(0, 0, 0, 0.3));\n",
       "      fill: #FFFFFF;\n",
       "    }\n",
       "  </style>\n",
       "\n",
       "    <script>\n",
       "      const buttonEl =\n",
       "        document.querySelector('#df-81d4996a-d3f3-4af6-8edf-0f4cc3c36660 button.colab-df-convert');\n",
       "      buttonEl.style.display =\n",
       "        google.colab.kernel.accessAllowed ? 'block' : 'none';\n",
       "\n",
       "      async function convertToInteractive(key) {\n",
       "        const element = document.querySelector('#df-81d4996a-d3f3-4af6-8edf-0f4cc3c36660');\n",
       "        const dataTable =\n",
       "          await google.colab.kernel.invokeFunction('convertToInteractive',\n",
       "                                                    [key], {});\n",
       "        if (!dataTable) return;\n",
       "\n",
       "        const docLinkHtml = 'Like what you see? Visit the ' +\n",
       "          '<a target=\"_blank\" href=https://colab.research.google.com/notebooks/data_table.ipynb>data table notebook</a>'\n",
       "          + ' to learn more about interactive tables.';\n",
       "        element.innerHTML = '';\n",
       "        dataTable['output_type'] = 'display_data';\n",
       "        await google.colab.output.renderOutput(dataTable, element);\n",
       "        const docLink = document.createElement('div');\n",
       "        docLink.innerHTML = docLinkHtml;\n",
       "        element.appendChild(docLink);\n",
       "      }\n",
       "    </script>\n",
       "  </div>\n",
       "\n",
       "\n",
       "    <div id=\"df-a7eb72ba-860b-4b20-ab2e-7afa623994e6\">\n",
       "      <button class=\"colab-df-quickchart\" onclick=\"quickchart('df-a7eb72ba-860b-4b20-ab2e-7afa623994e6')\"\n",
       "                title=\"Suggest charts\"\n",
       "                style=\"display:none;\">\n",
       "\n",
       "<svg xmlns=\"http://www.w3.org/2000/svg\" height=\"24px\"viewBox=\"0 0 24 24\"\n",
       "     width=\"24px\">\n",
       "    <g>\n",
       "        <path d=\"M19 3H5c-1.1 0-2 .9-2 2v14c0 1.1.9 2 2 2h14c1.1 0 2-.9 2-2V5c0-1.1-.9-2-2-2zM9 17H7v-7h2v7zm4 0h-2V7h2v10zm4 0h-2v-4h2v4z\"/>\n",
       "    </g>\n",
       "</svg>\n",
       "      </button>\n",
       "\n",
       "<style>\n",
       "  .colab-df-quickchart {\n",
       "      --bg-color: #E8F0FE;\n",
       "      --fill-color: #1967D2;\n",
       "      --hover-bg-color: #E2EBFA;\n",
       "      --hover-fill-color: #174EA6;\n",
       "      --disabled-fill-color: #AAA;\n",
       "      --disabled-bg-color: #DDD;\n",
       "  }\n",
       "\n",
       "  [theme=dark] .colab-df-quickchart {\n",
       "      --bg-color: #3B4455;\n",
       "      --fill-color: #D2E3FC;\n",
       "      --hover-bg-color: #434B5C;\n",
       "      --hover-fill-color: #FFFFFF;\n",
       "      --disabled-bg-color: #3B4455;\n",
       "      --disabled-fill-color: #666;\n",
       "  }\n",
       "\n",
       "  .colab-df-quickchart {\n",
       "    background-color: var(--bg-color);\n",
       "    border: none;\n",
       "    border-radius: 50%;\n",
       "    cursor: pointer;\n",
       "    display: none;\n",
       "    fill: var(--fill-color);\n",
       "    height: 32px;\n",
       "    padding: 0;\n",
       "    width: 32px;\n",
       "  }\n",
       "\n",
       "  .colab-df-quickchart:hover {\n",
       "    background-color: var(--hover-bg-color);\n",
       "    box-shadow: 0 1px 2px rgba(60, 64, 67, 0.3), 0 1px 3px 1px rgba(60, 64, 67, 0.15);\n",
       "    fill: var(--button-hover-fill-color);\n",
       "  }\n",
       "\n",
       "  .colab-df-quickchart-complete:disabled,\n",
       "  .colab-df-quickchart-complete:disabled:hover {\n",
       "    background-color: var(--disabled-bg-color);\n",
       "    fill: var(--disabled-fill-color);\n",
       "    box-shadow: none;\n",
       "  }\n",
       "\n",
       "  .colab-df-spinner {\n",
       "    border: 2px solid var(--fill-color);\n",
       "    border-color: transparent;\n",
       "    border-bottom-color: var(--fill-color);\n",
       "    animation:\n",
       "      spin 1s steps(1) infinite;\n",
       "  }\n",
       "\n",
       "  @keyframes spin {\n",
       "    0% {\n",
       "      border-color: transparent;\n",
       "      border-bottom-color: var(--fill-color);\n",
       "      border-left-color: var(--fill-color);\n",
       "    }\n",
       "    20% {\n",
       "      border-color: transparent;\n",
       "      border-left-color: var(--fill-color);\n",
       "      border-top-color: var(--fill-color);\n",
       "    }\n",
       "    30% {\n",
       "      border-color: transparent;\n",
       "      border-left-color: var(--fill-color);\n",
       "      border-top-color: var(--fill-color);\n",
       "      border-right-color: var(--fill-color);\n",
       "    }\n",
       "    40% {\n",
       "      border-color: transparent;\n",
       "      border-right-color: var(--fill-color);\n",
       "      border-top-color: var(--fill-color);\n",
       "    }\n",
       "    60% {\n",
       "      border-color: transparent;\n",
       "      border-right-color: var(--fill-color);\n",
       "    }\n",
       "    80% {\n",
       "      border-color: transparent;\n",
       "      border-right-color: var(--fill-color);\n",
       "      border-bottom-color: var(--fill-color);\n",
       "    }\n",
       "    90% {\n",
       "      border-color: transparent;\n",
       "      border-bottom-color: var(--fill-color);\n",
       "    }\n",
       "  }\n",
       "</style>\n",
       "\n",
       "      <script>\n",
       "        async function quickchart(key) {\n",
       "          const quickchartButtonEl =\n",
       "            document.querySelector('#' + key + ' button');\n",
       "          quickchartButtonEl.disabled = true;  // To prevent multiple clicks.\n",
       "          quickchartButtonEl.classList.add('colab-df-spinner');\n",
       "          try {\n",
       "            const charts = await google.colab.kernel.invokeFunction(\n",
       "                'suggestCharts', [key], {});\n",
       "          } catch (error) {\n",
       "            console.error('Error during call to suggestCharts:', error);\n",
       "          }\n",
       "          quickchartButtonEl.classList.remove('colab-df-spinner');\n",
       "          quickchartButtonEl.classList.add('colab-df-quickchart-complete');\n",
       "        }\n",
       "        (() => {\n",
       "          let quickchartButtonEl =\n",
       "            document.querySelector('#df-a7eb72ba-860b-4b20-ab2e-7afa623994e6 button');\n",
       "          quickchartButtonEl.style.display =\n",
       "            google.colab.kernel.accessAllowed ? 'block' : 'none';\n",
       "        })();\n",
       "      </script>\n",
       "    </div>\n",
       "\n",
       "  <div id=\"id_6d55881b-4bdf-4db2-ac4a-ade3b804b629\">\n",
       "    <style>\n",
       "      .colab-df-generate {\n",
       "        background-color: #E8F0FE;\n",
       "        border: none;\n",
       "        border-radius: 50%;\n",
       "        cursor: pointer;\n",
       "        display: none;\n",
       "        fill: #1967D2;\n",
       "        height: 32px;\n",
       "        padding: 0 0 0 0;\n",
       "        width: 32px;\n",
       "      }\n",
       "\n",
       "      .colab-df-generate:hover {\n",
       "        background-color: #E2EBFA;\n",
       "        box-shadow: 0px 1px 2px rgba(60, 64, 67, 0.3), 0px 1px 3px 1px rgba(60, 64, 67, 0.15);\n",
       "        fill: #174EA6;\n",
       "      }\n",
       "\n",
       "      [theme=dark] .colab-df-generate {\n",
       "        background-color: #3B4455;\n",
       "        fill: #D2E3FC;\n",
       "      }\n",
       "\n",
       "      [theme=dark] .colab-df-generate:hover {\n",
       "        background-color: #434B5C;\n",
       "        box-shadow: 0px 1px 3px 1px rgba(0, 0, 0, 0.15);\n",
       "        filter: drop-shadow(0px 1px 2px rgba(0, 0, 0, 0.3));\n",
       "        fill: #FFFFFF;\n",
       "      }\n",
       "    </style>\n",
       "    <button class=\"colab-df-generate\" onclick=\"generateWithVariable('report_df')\"\n",
       "            title=\"Generate code using this dataframe.\"\n",
       "            style=\"display:none;\">\n",
       "\n",
       "  <svg xmlns=\"http://www.w3.org/2000/svg\" height=\"24px\"viewBox=\"0 0 24 24\"\n",
       "       width=\"24px\">\n",
       "    <path d=\"M7,19H8.4L18.45,9,17,7.55,7,17.6ZM5,21V16.75L18.45,3.32a2,2,0,0,1,2.83,0l1.4,1.43a1.91,1.91,0,0,1,.58,1.4,1.91,1.91,0,0,1-.58,1.4L9.25,21ZM18.45,9,17,7.55Zm-12,3A5.31,5.31,0,0,0,4.9,8.1,5.31,5.31,0,0,0,1,6.5,5.31,5.31,0,0,0,4.9,4.9,5.31,5.31,0,0,0,6.5,1,5.31,5.31,0,0,0,8.1,4.9,5.31,5.31,0,0,0,12,6.5,5.46,5.46,0,0,0,6.5,12Z\"/>\n",
       "  </svg>\n",
       "    </button>\n",
       "    <script>\n",
       "      (() => {\n",
       "      const buttonEl =\n",
       "        document.querySelector('#id_6d55881b-4bdf-4db2-ac4a-ade3b804b629 button.colab-df-generate');\n",
       "      buttonEl.style.display =\n",
       "        google.colab.kernel.accessAllowed ? 'block' : 'none';\n",
       "\n",
       "      buttonEl.onclick = () => {\n",
       "        google.colab.notebook.generateWithVariable('report_df');\n",
       "      }\n",
       "      })();\n",
       "    </script>\n",
       "  </div>\n",
       "\n",
       "    </div>\n",
       "  </div>\n"
      ],
      "text/plain": [
       "              precision  recall  f1-score   support\n",
       "Angry             0.787   0.808     0.797   385.000\n",
       "Disgust           0.739   0.538     0.623   385.000\n",
       "Fearful           0.649   0.548     0.594   385.000\n",
       "Happy             0.594   0.717     0.649   385.000\n",
       "Neutral           0.673   0.812     0.736   340.000\n",
       "Sad               0.669   0.678     0.674   385.000\n",
       "accuracy          0.681   0.681     0.681     0.681\n",
       "macro avg         0.685   0.683     0.679  2265.000\n",
       "weighted avg      0.686   0.681     0.678  2265.000"
      ]
     },
     "metadata": {},
     "output_type": "display_data"
    }
   ],
   "source": [
    "from sklearn.metrics import classification_report\n",
    "import pandas as pd\n",
    "\n",
    "report = classification_report(y_true, y_pred, target_names=le.classes_, output_dict=True)\n",
    "\n",
    "report_df = pd.DataFrame(report).transpose()\n",
    "\n",
    "report_df = report_df.round(3)\n",
    "\n",
    "display(report_df)\n"
   ]
  }
 ],
 "metadata": {
  "accelerator": "GPU",
  "colab": {
   "authorship_tag": "ABX9TyO9Sq4sJATCt3iVWO/NhYad",
   "gpuType": "T4",
   "provenance": []
  },
  "kernelspec": {
   "display_name": "Python 3",
   "name": "python3"
  },
  "language_info": {
   "name": "python"
  }
 },
 "nbformat": 4,
 "nbformat_minor": 0
}
